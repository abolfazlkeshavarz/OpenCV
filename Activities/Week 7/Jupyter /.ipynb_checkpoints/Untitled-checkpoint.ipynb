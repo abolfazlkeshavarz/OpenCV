{
 "cells": [
  {
   "cell_type": "code",
   "execution_count": 8,
   "id": "7d5764b0",
   "metadata": {},
   "outputs": [],
   "source": [
    "# import libraries:\n",
    "\n",
    "import cv2\n",
    "import numpy as np\n",
    "from matplotlib import pyplot as plt\n",
    "from IPython.display import display"
   ]
  },
  {
   "cell_type": "code",
   "execution_count": 9,
   "id": "c50c37b1",
   "metadata": {},
   "outputs": [
    {
     "name": "stderr",
     "output_type": "stream",
     "text": [
      "[ WARN:0@251.035] global loadsave.cpp:244 findDecoder imread_('/images/GT26_input.jpg'): can't open/read file: check file path/integrity\n",
      "[ WARN:0@251.036] global loadsave.cpp:244 findDecoder imread_('/images/donkey.png'): can't open/read file: check file path/integrity\n"
     ]
    },
    {
     "ename": "NameError",
     "evalue": "name 'dst' is not defined",
     "output_type": "error",
     "traceback": [
      "\u001b[0;31m---------------------------------------------------------------------------\u001b[0m",
      "\u001b[0;31mNameError\u001b[0m                                 Traceback (most recent call last)",
      "Cell \u001b[0;32mIn[9], line 13\u001b[0m\n\u001b[1;32m     11\u001b[0m trackbar_title \u001b[38;5;241m=\u001b[39m \u001b[38;5;124m'\u001b[39m\u001b[38;5;124mCombine amount\u001b[39m\u001b[38;5;124m'\u001b[39m\n\u001b[1;32m     12\u001b[0m cv2\u001b[38;5;241m.\u001b[39mcreateTrackbar(trackbar_title, window_title, \u001b[38;5;241m0\u001b[39m, alpha_max, combine)\n\u001b[0;32m---> 13\u001b[0m \u001b[43mcombine\u001b[49m\u001b[43m(\u001b[49m\u001b[38;5;241;43m0\u001b[39;49m\u001b[43m)\u001b[49m\n\u001b[1;32m     15\u001b[0m cv2\u001b[38;5;241m.\u001b[39mwaitKey()\n\u001b[1;32m     16\u001b[0m cv2\u001b[38;5;241m.\u001b[39mdestroyAllWindows()\n",
      "Cell \u001b[0;32mIn[9], line 9\u001b[0m, in \u001b[0;36mcombine\u001b[0;34m(value)\u001b[0m\n\u001b[1;32m      7\u001b[0m beta \u001b[38;5;241m=\u001b[39m \u001b[38;5;241m1\u001b[39m \u001b[38;5;241m-\u001b[39m alpha\n\u001b[1;32m      8\u001b[0m cv2\u001b[38;5;241m.\u001b[39maddWeighted(img1, alpha, img2, beta, \u001b[38;5;241m0.0\u001b[39m)\n\u001b[0;32m----> 9\u001b[0m cv2\u001b[38;5;241m.\u001b[39mimshow(window_title,\u001b[43mdst\u001b[49m)\n",
      "\u001b[0;31mNameError\u001b[0m: name 'dst' is not defined"
     ]
    }
   ],
   "source": [
    "alpha_max = 100\n",
    "window_title = 'Combine Trackbar'\n",
    "img1 = cv2.imread(r'/images/GT26_input.jpg')\n",
    "img2 = cv2.imread(r'/images/donkey.png')\n",
    "def combine(value):\n",
    "    alpha = value/100\n",
    "    beta = 1 - alpha\n",
    "    cv2.addWeighted(img1, alpha, img2, beta, 0.0)\n",
    "    cv2.imshow(window_title,dst)\n",
    "cv2.namedWindow(window_title)\n",
    "trackbar_title = 'Combine amount'\n",
    "cv2.createTrackbar(trackbar_title, window_title, 0, alpha_max, combine)\n",
    "combine(0)\n",
    "\n",
    "cv2.waitKey()\n",
    "cv2.destroyAllWindows()\n"
   ]
  },
  {
   "cell_type": "code",
   "execution_count": null,
   "id": "e2077451",
   "metadata": {},
   "outputs": [],
   "source": []
  }
 ],
 "metadata": {
  "kernelspec": {
   "display_name": "Python 3 (ipykernel)",
   "language": "python",
   "name": "python3"
  },
  "language_info": {
   "codemirror_mode": {
    "name": "ipython",
    "version": 3
   },
   "file_extension": ".py",
   "mimetype": "text/x-python",
   "name": "python",
   "nbconvert_exporter": "python",
   "pygments_lexer": "ipython3",
   "version": "3.10.6"
  }
 },
 "nbformat": 4,
 "nbformat_minor": 5
}
