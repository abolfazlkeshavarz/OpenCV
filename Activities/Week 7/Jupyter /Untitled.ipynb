{
 "cells": [
  {
   "cell_type": "code",
   "execution_count": 2,
   "id": "7d5764b0",
   "metadata": {},
   "outputs": [],
   "source": [
    "# import libraries:\n",
    "\n",
    "import cv2\n",
    "import numpy as np\n",
    "from matplotlib import pyplot as plt\n",
    "from IPython.display import display"
   ]
  },
  {
   "cell_type": "code",
   "execution_count": 6,
   "id": "c50c37b1",
   "metadata": {},
   "outputs": [
    {
     "ename": "error",
     "evalue": "OpenCV(4.7.0) /io/opencv/modules/core/src/arithm.cpp:647: error: (-209:Sizes of input arguments do not match) The operation is neither 'array op array' (where arrays have the same size and the same number of channels), nor 'array op scalar', nor 'scalar op array' in function 'arithm_op'\n",
     "output_type": "error",
     "traceback": [
      "\u001b[0;31m---------------------------------------------------------------------------\u001b[0m",
      "\u001b[0;31merror\u001b[0m                                     Traceback (most recent call last)",
      "Cell \u001b[0;32mIn[6], line 17\u001b[0m\n\u001b[1;32m     15\u001b[0m trackbar_title \u001b[38;5;241m=\u001b[39m \u001b[38;5;124m'\u001b[39m\u001b[38;5;124mCombine amount\u001b[39m\u001b[38;5;124m'\u001b[39m\n\u001b[1;32m     16\u001b[0m cv2\u001b[38;5;241m.\u001b[39mcreateTrackbar(trackbar_title, window_title, \u001b[38;5;241m0\u001b[39m, alpha_max, combine)\n\u001b[0;32m---> 17\u001b[0m \u001b[43mcombine\u001b[49m\u001b[43m(\u001b[49m\u001b[38;5;241;43m0\u001b[39;49m\u001b[43m)\u001b[49m\n\u001b[1;32m     19\u001b[0m cv2\u001b[38;5;241m.\u001b[39mwaitKey()\n\u001b[1;32m     20\u001b[0m cv2\u001b[38;5;241m.\u001b[39mdestroyAllWindows()\n",
      "Cell \u001b[0;32mIn[6], line 8\u001b[0m, in \u001b[0;36mcombine\u001b[0;34m(value)\u001b[0m\n\u001b[1;32m      6\u001b[0m alpha \u001b[38;5;241m=\u001b[39m value \u001b[38;5;241m/\u001b[39m alpha_max\n\u001b[1;32m      7\u001b[0m beta \u001b[38;5;241m=\u001b[39m (\u001b[38;5;241m1.0\u001b[39m \u001b[38;5;241m-\u001b[39m alpha)\n\u001b[0;32m----> 8\u001b[0m \u001b[43mcv2\u001b[49m\u001b[38;5;241;43m.\u001b[39;49m\u001b[43maddWeighted\u001b[49m\u001b[43m(\u001b[49m\u001b[43mimg1\u001b[49m\u001b[43m,\u001b[49m\u001b[43m \u001b[49m\u001b[43malpha\u001b[49m\u001b[43m,\u001b[49m\u001b[43m \u001b[49m\u001b[43mimg2\u001b[49m\u001b[43m,\u001b[49m\u001b[43m \u001b[49m\u001b[43mbeta\u001b[49m\u001b[43m,\u001b[49m\u001b[43m \u001b[49m\u001b[38;5;241;43m0.0\u001b[39;49m\u001b[43m)\u001b[49m\n\u001b[1;32m      9\u001b[0m cv2\u001b[38;5;241m.\u001b[39mimshow(window_title,dst)\n",
      "\u001b[0;31merror\u001b[0m: OpenCV(4.7.0) /io/opencv/modules/core/src/arithm.cpp:647: error: (-209:Sizes of input arguments do not match) The operation is neither 'array op array' (where arrays have the same size and the same number of channels), nor 'array op scalar', nor 'scalar op array' in function 'arithm_op'\n"
     ]
    }
   ],
   "source": [
    "alpha_max = 100\n",
    "window_title = 'Combine Trackbar'\n",
    "\n",
    "\n",
    "def combine(value):\n",
    "    alpha = value / alpha_max\n",
    "    beta = (1.0 - alpha)\n",
    "    cv2.addWeighted(img1, alpha, img2, beta, 0.0)\n",
    "    cv2.imshow(window_title,dst)\n",
    "    \n",
    "img1 = cv2.imread('../../../images/GT26_input.jpg')\n",
    "img2 = cv2.imread('../../../images/donkey.png')  \n",
    "\n",
    "cv2.namedWindow(window_title)\n",
    "trackbar_title = 'Combine amount'\n",
    "cv2.createTrackbar(trackbar_title, window_title, 0, alpha_max, combine)\n",
    "combine(0)\n",
    "\n",
    "cv2.waitKey()\n",
    "cv2.destroyAllWindows()\n"
   ]
  },
  {
   "cell_type": "code",
   "execution_count": null,
   "id": "2bf62fb1",
   "metadata": {},
   "outputs": [],
   "source": [
    "alpha_max = 100\n",
    "window_title = 'Combine Trackbar'\n",
    "\n",
    "\n",
    "def combine(value):\n",
    "    alpha = value / alpha_max\n",
    "    beta = (1.0 - alpha)\n",
    "    cv2.addWeighted(img1, alpha, img2, beta, 0.0)\n",
    "    cv2.imshow(window_title,dst)\n",
    "    \n",
    "img1 = cv2.imread('../../../images/GT26_input.jpg')\n",
    "img2 = cv2.imread('../../../images/donkey.png')  \n",
    "\n",
    "cv2.namedWindow(window_title)\n",
    "trackbar_title = 'Combine amount'\n",
    "cv2.createTrackbar(trackbar_title, window_title, 0, alpha_max, combine)\n",
    "\n",
    "cv2.waitKey()\n",
    "cv2.destroyAllWindows()\n"
   ]
  },
  {
   "cell_type": "code",
   "execution_count": null,
   "id": "657cdc3a",
   "metadata": {},
   "outputs": [],
   "source": []
  }
 ],
 "metadata": {
  "kernelspec": {
   "display_name": "Python 3 (ipykernel)",
   "language": "python",
   "name": "python3"
  },
  "language_info": {
   "codemirror_mode": {
    "name": "ipython",
    "version": 3
   },
   "file_extension": ".py",
   "mimetype": "text/x-python",
   "name": "python",
   "nbconvert_exporter": "python",
   "pygments_lexer": "ipython3",
   "version": "3.10.6"
  }
 },
 "nbformat": 4,
 "nbformat_minor": 5
}
